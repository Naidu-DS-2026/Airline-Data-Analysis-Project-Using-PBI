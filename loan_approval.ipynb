{
  "nbformat": 4,
  "nbformat_minor": 0,
  "metadata": {
    "colab": {
      "provenance": [],
      "authorship_tag": "ABX9TyPvXaP4fKGjRRRd/o+Rxtjc",
      "include_colab_link": true
    },
    "kernelspec": {
      "name": "python3",
      "display_name": "Python 3"
    },
    "language_info": {
      "name": "python"
    }
  },
  "cells": [
    {
      "cell_type": "markdown",
      "metadata": {
        "id": "view-in-github",
        "colab_type": "text"
      },
      "source": [
        "<a href=\"https://colab.research.google.com/github/Naidu-DS-2026/airline-data-analysis-pbi/blob/main/loan_approval.ipynb\" target=\"_parent\"><img src=\"https://colab.research.google.com/assets/colab-badge.svg\" alt=\"Open In Colab\"/></a>"
      ]
    },
    {
      "cell_type": "code",
      "source": [
        "# Importing Libraries\n",
        "import pandas as pd\n",
        "import numpy as np\n",
        "from sklearn.model_selection import train_test_split\n",
        "from sklearn.preprocessing import LabelEncoder, StandardScaler\n",
        "from sklearn.ensemble import RandomForestClassifier\n",
        "from sklearn.metrics import accuracy_score, classification_report, confusion_matrix"
      ],
      "metadata": {
        "id": "yUWSmGth0Ctc"
      },
      "execution_count": null,
      "outputs": []
    },
    {
      "cell_type": "code",
      "source": [
        "# Load Dataset\n",
        "file_path = '/content/Copy of loan (1).xlsx' # Replace with the correct path\n",
        "data = pd.read_excel(file_path)\n",
        "# Display the first few rows\n",
        "print(\"Dataset Preview:\")\n",
        "print(data.head())\n",
        "# Display column information\n",
        "print(\"\\nDataset Information:\")\n",
        "print(data.info())"
      ],
      "metadata": {
        "colab": {
          "base_uri": "https://localhost:8080/"
        },
        "id": "38jM0J2c0mjX",
        "outputId": "0743de8c-5f25-4dee-8342-c2df1616ee15"
      },
      "execution_count": null,
      "outputs": [
        {
          "output_type": "stream",
          "name": "stdout",
          "text": [
            "Dataset Preview:\n",
            "    Loan_ID Gender Married Dependents     Education Self_Employed  \\\n",
            "0  LP001002   Male      No          0      Graduate            No   \n",
            "1  LP001003   Male     Yes          1      Graduate            No   \n",
            "2  LP001005   Male     Yes          0      Graduate           Yes   \n",
            "3  LP001006   Male     Yes          0  Not Graduate            No   \n",
            "4  LP001008   Male      No          0      Graduate            No   \n",
            "\n",
            "   ApplicantIncome  CoapplicantIncome  LoanAmount  Loan_Amount_Term  \\\n",
            "0             5849                0.0         NaN             360.0   \n",
            "1             4583             1508.0       128.0             360.0   \n",
            "2             3000                0.0        66.0             360.0   \n",
            "3             2583             2358.0       120.0             360.0   \n",
            "4             6000                0.0       141.0             360.0   \n",
            "\n",
            "   Credit_History Property_Area Loan_Status  \n",
            "0             1.0         Urban           Y  \n",
            "1             1.0         Rural           N  \n",
            "2             1.0         Urban           Y  \n",
            "3             1.0         Urban           Y  \n",
            "4             1.0         Urban           Y  \n",
            "\n",
            "Dataset Information:\n",
            "<class 'pandas.core.frame.DataFrame'>\n",
            "RangeIndex: 614 entries, 0 to 613\n",
            "Data columns (total 13 columns):\n",
            " #   Column             Non-Null Count  Dtype  \n",
            "---  ------             --------------  -----  \n",
            " 0   Loan_ID            614 non-null    object \n",
            " 1   Gender             601 non-null    object \n",
            " 2   Married            611 non-null    object \n",
            " 3   Dependents         599 non-null    object \n",
            " 4   Education          614 non-null    object \n",
            " 5   Self_Employed      582 non-null    object \n",
            " 6   ApplicantIncome    614 non-null    int64  \n",
            " 7   CoapplicantIncome  614 non-null    float64\n",
            " 8   LoanAmount         592 non-null    float64\n",
            " 9   Loan_Amount_Term   600 non-null    float64\n",
            " 10  Credit_History     564 non-null    float64\n",
            " 11  Property_Area      614 non-null    object \n",
            " 12  Loan_Status        614 non-null    object \n",
            "dtypes: float64(4), int64(1), object(8)\n",
            "memory usage: 62.5+ KB\n",
            "None\n"
          ]
        }
      ]
    },
    {
      "cell_type": "code",
      "source": [
        "# Check for missing values\n",
        "print(\"\\nMissing Values Before Handling:\")\n",
        "print(data.isnull().sum())\n",
        "\n",
        "# Handle missing values\n",
        "for column in data.columns:\n",
        "    if data[column].dtype == 'object':\n",
        "        # Fill categorical columns with the mode\n",
        "        data[column].fillna(data[column].mode()[0], inplace=True)\n",
        "    else:\n",
        "        # Fill numerical columns with the median\n",
        "        data[column].fillna(data[column].median(), inplace=True)\n",
        "\n",
        "# Verify that missing values are handled\n",
        "print(\"\\nMissing Values After Handling:\")\n",
        "print(data.isnull().sum())"
      ],
      "metadata": {
        "colab": {
          "base_uri": "https://localhost:8080/"
        },
        "id": "TPv5hpWA0zo2",
        "outputId": "f039a624-364a-4084-c942-5a265395cf5d"
      },
      "execution_count": null,
      "outputs": [
        {
          "output_type": "stream",
          "name": "stdout",
          "text": [
            "\n",
            "Missing Values Before Handling:\n",
            "Loan_ID               0\n",
            "Gender               13\n",
            "Married               3\n",
            "Dependents           15\n",
            "Education             0\n",
            "Self_Employed        32\n",
            "ApplicantIncome       0\n",
            "CoapplicantIncome     0\n",
            "LoanAmount           22\n",
            "Loan_Amount_Term     14\n",
            "Credit_History       50\n",
            "Property_Area         0\n",
            "Loan_Status           0\n",
            "dtype: int64\n",
            "\n",
            "Missing Values After Handling:\n",
            "Loan_ID              0\n",
            "Gender               0\n",
            "Married              0\n",
            "Dependents           0\n",
            "Education            0\n",
            "Self_Employed        0\n",
            "ApplicantIncome      0\n",
            "CoapplicantIncome    0\n",
            "LoanAmount           0\n",
            "Loan_Amount_Term     0\n",
            "Credit_History       0\n",
            "Property_Area        0\n",
            "Loan_Status          0\n",
            "dtype: int64\n"
          ]
        },
        {
          "output_type": "stream",
          "name": "stderr",
          "text": [
            "<ipython-input-9-c38d19bbbbbe>:9: FutureWarning: A value is trying to be set on a copy of a DataFrame or Series through chained assignment using an inplace method.\n",
            "The behavior will change in pandas 3.0. This inplace method will never work because the intermediate object on which we are setting values always behaves as a copy.\n",
            "\n",
            "For example, when doing 'df[col].method(value, inplace=True)', try using 'df.method({col: value}, inplace=True)' or df[col] = df[col].method(value) instead, to perform the operation inplace on the original object.\n",
            "\n",
            "\n",
            "  data[column].fillna(data[column].mode()[0], inplace=True)\n",
            "<ipython-input-9-c38d19bbbbbe>:12: FutureWarning: A value is trying to be set on a copy of a DataFrame or Series through chained assignment using an inplace method.\n",
            "The behavior will change in pandas 3.0. This inplace method will never work because the intermediate object on which we are setting values always behaves as a copy.\n",
            "\n",
            "For example, when doing 'df[col].method(value, inplace=True)', try using 'df.method({col: value}, inplace=True)' or df[col] = df[col].method(value) instead, to perform the operation inplace on the original object.\n",
            "\n",
            "\n",
            "  data[column].fillna(data[column].median(), inplace=True)\n"
          ]
        }
      ]
    },
    {
      "source": [
        "# Encoding categorical variables\n",
        "label_encoders = {}\n",
        "for column in ['Gender', 'Married', 'Dependents', 'Education', 'Self_Employed', 'Property_Area', 'Loan_Status']:\n",
        "    # Convert the column to string type before applying LabelEncoder\n",
        "    data[column] = data[column].astype(str)\n",
        "    le = LabelEncoder()\n",
        "    data[column] = le.fit_transform(data[column])\n",
        "    label_encoders[column] = le\n",
        "print(\"\\nDataset after encoding categorical variables:\")\n",
        "print(data.head())"
      ],
      "cell_type": "code",
      "metadata": {
        "colab": {
          "base_uri": "https://localhost:8080/"
        },
        "id": "UmbiGHE_1BlF",
        "outputId": "7ae17992-facd-4b53-99e6-0a29fcca3409"
      },
      "execution_count": null,
      "outputs": [
        {
          "output_type": "stream",
          "name": "stdout",
          "text": [
            "\n",
            "Dataset after encoding categorical variables:\n",
            "    Loan_ID  Gender  Married  Dependents  Education  Self_Employed  \\\n",
            "0  LP001002       1        0           0          0              0   \n",
            "1  LP001003       1        1           1          0              0   \n",
            "2  LP001005       1        1           0          0              1   \n",
            "3  LP001006       1        1           0          1              0   \n",
            "4  LP001008       1        0           0          0              0   \n",
            "\n",
            "   ApplicantIncome  CoapplicantIncome  LoanAmount  Loan_Amount_Term  \\\n",
            "0             5849                0.0       128.0             360.0   \n",
            "1             4583             1508.0       128.0             360.0   \n",
            "2             3000                0.0        66.0             360.0   \n",
            "3             2583             2358.0       120.0             360.0   \n",
            "4             6000                0.0       141.0             360.0   \n",
            "\n",
            "   Credit_History  Property_Area  Loan_Status  \n",
            "0             1.0              2            1  \n",
            "1             1.0              0            0  \n",
            "2             1.0              2            1  \n",
            "3             1.0              2            1  \n",
            "4             1.0              2            1  \n"
          ]
        }
      ]
    },
    {
      "cell_type": "code",
      "source": [
        "# Define Features (X) and Target (y)\n",
        "X = data.drop(['Loan_ID', 'Loan_Status'], axis=1)  # Drop Loan_ID and target column\n",
        "y = data['Loan_Status']  # Target variable\n",
        "print(\"\\nFeatures and Target:\")\n",
        "print(\"Features (X):\\n\", X.head())\n",
        "print(\"Target (y):\\n\", y.head())"
      ],
      "metadata": {
        "colab": {
          "base_uri": "https://localhost:8080/"
        },
        "id": "fsF1fSR806iZ",
        "outputId": "5440f80a-8ea6-4e53-d0fa-ac81cf4bdf60"
      },
      "execution_count": null,
      "outputs": [
        {
          "output_type": "stream",
          "name": "stdout",
          "text": [
            "\n",
            "Features and Target:\n",
            "Features (X):\n",
            "    Gender  Married  Dependents  Education  Self_Employed  ApplicantIncome  \\\n",
            "0       1        0           0          0              0             5849   \n",
            "1       1        1           1          0              0             4583   \n",
            "2       1        1           0          0              1             3000   \n",
            "3       1        1           0          1              0             2583   \n",
            "4       1        0           0          0              0             6000   \n",
            "\n",
            "   CoapplicantIncome  LoanAmount  Loan_Amount_Term  Credit_History  \\\n",
            "0                0.0       128.0             360.0             1.0   \n",
            "1             1508.0       128.0             360.0             1.0   \n",
            "2                0.0        66.0             360.0             1.0   \n",
            "3             2358.0       120.0             360.0             1.0   \n",
            "4                0.0       141.0             360.0             1.0   \n",
            "\n",
            "   Property_Area  \n",
            "0              2  \n",
            "1              0  \n",
            "2              2  \n",
            "3              2  \n",
            "4              2  \n",
            "Target (y):\n",
            " 0    1\n",
            "1    0\n",
            "2    1\n",
            "3    1\n",
            "4    1\n",
            "Name: Loan_Status, dtype: int64\n"
          ]
        }
      ]
    },
    {
      "cell_type": "code",
      "source": [
        "# Split the data into training and testing sets\n",
        "X_train, X_test, y_train, y_test = train_test_split(X, y, test_size=0.2, random_state=42)\n",
        "\n",
        "print(f\"Training set size: {X_train.shape[0]} rows\")\n",
        "print(f\"Test set size: {X_test.shape[0]} rows\")\n"
      ],
      "metadata": {
        "colab": {
          "base_uri": "https://localhost:8080/"
        },
        "id": "QCZqm-gP1ESb",
        "outputId": "baaf4f81-8bc1-4e6d-d2c0-6ea01e241f9b"
      },
      "execution_count": null,
      "outputs": [
        {
          "output_type": "stream",
          "name": "stdout",
          "text": [
            "Training set size: 491 rows\n",
            "Test set size: 123 rows\n"
          ]
        }
      ]
    },
    {
      "cell_type": "code",
      "source": [
        "# Standardize numerical features\n",
        "scaler = StandardScaler()\n",
        "X_train = scaler.fit_transform(X_train)\n",
        "X_test = scaler.transform(X_test)\n",
        "\n",
        "print(\"\\nFeature Scaling Completed.\")\n"
      ],
      "metadata": {
        "colab": {
          "base_uri": "https://localhost:8080/"
        },
        "id": "gkMqHKkU1Giw",
        "outputId": "0ea1dae6-3c7f-47b8-ea33-56ef3a225d07"
      },
      "execution_count": null,
      "outputs": [
        {
          "output_type": "stream",
          "name": "stdout",
          "text": [
            "\n",
            "Feature Scaling Completed.\n"
          ]
        }
      ]
    },
    {
      "cell_type": "code",
      "source": [
        "# Train Random Forest Classifier\n",
        "model = RandomForestClassifier(random_state=42, n_estimators=100)\n",
        "model.fit(X_train, y_train)\n",
        "\n",
        "print(\"\\nModel Training Completed.\")\n"
      ],
      "metadata": {
        "colab": {
          "base_uri": "https://localhost:8080/"
        },
        "id": "AOWyX6hB1JAb",
        "outputId": "1c077111-2869-4cf1-c558-dfb475873eec"
      },
      "execution_count": null,
      "outputs": [
        {
          "output_type": "stream",
          "name": "stdout",
          "text": [
            "\n",
            "Model Training Completed.\n"
          ]
        }
      ]
    },
    {
      "cell_type": "code",
      "source": [
        "# Make predictions on the test set\n",
        "y_pred = model.predict(X_test)\n",
        "\n",
        "# Evaluate the model\n",
        "accuracy = accuracy_score(y_test, y_pred)\n",
        "print(f\"\\nAccuracy: {accuracy:.2f}\")\n",
        "\n",
        "print(\"\\nClassification Report:\")\n",
        "print(classification_report(y_test, y_pred))\n",
        "\n",
        "print(\"\\nConfusion Matrix:\")\n",
        "print(confusion_matrix(y_test, y_pred))\n"
      ],
      "metadata": {
        "colab": {
          "base_uri": "https://localhost:8080/"
        },
        "id": "xxpzC0xq1LvV",
        "outputId": "a74e3d65-9914-402b-8b3a-d380f2a9337d"
      },
      "execution_count": null,
      "outputs": [
        {
          "output_type": "stream",
          "name": "stdout",
          "text": [
            "\n",
            "Accuracy: 0.75\n",
            "\n",
            "Classification Report:\n",
            "              precision    recall  f1-score   support\n",
            "\n",
            "           0       0.75      0.42      0.54        43\n",
            "           1       0.75      0.93      0.83        80\n",
            "\n",
            "    accuracy                           0.75       123\n",
            "   macro avg       0.75      0.67      0.68       123\n",
            "weighted avg       0.75      0.75      0.73       123\n",
            "\n",
            "\n",
            "Confusion Matrix:\n",
            "[[18 25]\n",
            " [ 6 74]]\n"
          ]
        }
      ]
    },
    {
      "cell_type": "code",
      "source": [
        "# Feature Importance\n",
        "importances = model.feature_importances_\n",
        "feature_names = X.columns\n",
        "important_features = pd.DataFrame({'Feature': feature_names, 'Importance': importances}).sort_values(by='Importance', ascending=False)\n",
        "\n",
        "print(\"\\nFeature Importances:\")\n",
        "print(important_features)\n"
      ],
      "metadata": {
        "colab": {
          "base_uri": "https://localhost:8080/"
        },
        "id": "z9lD8nFQ1OWi",
        "outputId": "5dfe452f-6308-4753-c64f-7d71c397204f"
      },
      "execution_count": null,
      "outputs": [
        {
          "output_type": "stream",
          "name": "stdout",
          "text": [
            "\n",
            "Feature Importances:\n",
            "              Feature  Importance\n",
            "9      Credit_History    0.262914\n",
            "5     ApplicantIncome    0.202666\n",
            "7          LoanAmount    0.185022\n",
            "6   CoapplicantIncome    0.113861\n",
            "8    Loan_Amount_Term    0.051443\n",
            "10      Property_Area    0.049602\n",
            "2          Dependents    0.048141\n",
            "1             Married    0.023648\n",
            "3           Education    0.021271\n",
            "0              Gender    0.020718\n",
            "4       Self_Employed    0.020713\n"
          ]
        }
      ]
    },
    {
      "cell_type": "code",
      "source": [
        "# Save the trained model\n",
        "import pickle\n",
        "\n",
        "with open('loan_approval_model.pkl', 'wb') as model_file:\n",
        "    pickle.dump(model, model_file)\n",
        "\n",
        "# Save the scaler\n",
        "with open('scaler.pkl', 'wb') as scaler_file:\n",
        "    pickle.dump(scaler, scaler_file)\n",
        "\n",
        "print(\"\\nModel and Scaler Saved Successfully.\")\n"
      ],
      "metadata": {
        "colab": {
          "base_uri": "https://localhost:8080/"
        },
        "id": "Hf-onRTe1SfI",
        "outputId": "19f3d946-128f-452b-bb5b-436a41d20fdc"
      },
      "execution_count": null,
      "outputs": [
        {
          "output_type": "stream",
          "name": "stdout",
          "text": [
            "\n",
            "Model and Scaler Saved Successfully.\n"
          ]
        }
      ]
    },
    {
      "cell_type": "code",
      "source": [
        "import pickle\n",
        "import numpy as np\n",
        "\n",
        "# Load the trained model\n",
        "with open('loan_approval_model.pkl', 'rb') as model_file:\n",
        "    model = pickle.load(model_file)\n",
        "\n",
        "# Load the scaler\n",
        "with open('scaler.pkl', 'rb') as scaler_file:\n",
        "    scaler = pickle.load(scaler_file)\n",
        "\n",
        "# Define the Label Encoders (replace with your actual encoders if saved earlier)\n",
        "# Use the same mappings from training\n",
        "gender_mapping = {'Male': 1, 'Female': 0}\n",
        "married_mapping = {'Yes': 1, 'No': 0}\n",
        "education_mapping = {'Graduate': 1, 'Not Graduate': 0}\n",
        "self_employed_mapping = {'Yes': 1, 'No': 0}\n",
        "property_area_mapping = {'Urban': 2, 'Semiurban': 1, 'Rural': 0}\n",
        "dependents_mapping = {'0': 0, '1': 1, '2': 2, '3+': 3}\n",
        "\n",
        "# Collect user inputs\n",
        "print(\"Enter the following details to predict loan approval status:\")\n",
        "\n",
        "gender = input(\"Gender (Male/Female): \")\n",
        "married = input(\"Married (Yes/No): \")\n",
        "dependents = input(\"Number of Dependents (0/1/2/3+): \")\n",
        "education = input(\"Education (Graduate/Not Graduate): \")\n",
        "self_employed = input(\"Self Employed (Yes/No): \")\n",
        "applicant_income = float(input(\"Applicant Income: \"))\n",
        "coapplicant_income = float(input(\"Coapplicant Income: \"))\n",
        "loan_amount = float(input(\"Loan Amount: \"))\n",
        "loan_amount_term = float(input(\"Loan Amount Term (in days): \"))\n",
        "credit_history = int(input(\"Credit History (1: Yes, 0: No): \"))\n",
        "property_area = input(\"Property Area (Urban/Semiurban/Rural): \")\n",
        "\n",
        "# Encode and preprocess the input\n",
        "input_data = [\n",
        "    gender_mapping[gender],\n",
        "    married_mapping[married],\n",
        "    dependents_mapping[dependents],\n",
        "    education_mapping[education],\n",
        "    self_employed_mapping[self_employed],\n",
        "    applicant_income,\n",
        "    coapplicant_income,\n",
        "    loan_amount,\n",
        "    loan_amount_term,\n",
        "    credit_history,\n",
        "    property_area_mapping[property_area],\n",
        "]\n",
        "# Convert to numpy array and scale numerical features\n",
        "input_data = np.array(input_data).reshape(1, -1)\n",
        "scaled_input_data = scaler.transform(input_data)\n",
        "\n",
        "# Predict using the model\n",
        "prediction = model.predict(scaled_input_data)\n",
        "output = \"Approved\" if prediction[0] == 1 else \"Rejected\"\n",
        "\n",
        "# Display the result\n",
        "print(\"\\nLoan Approval Status Prediction: \", output)\n"
      ],
      "metadata": {
        "colab": {
          "base_uri": "https://localhost:8080/"
        },
        "id": "eCAebdmE1V55",
        "outputId": "52898114-c1a2-475c-df33-9093dce0f70e"
      },
      "execution_count": null,
      "outputs": [
        {
          "output_type": "stream",
          "name": "stdout",
          "text": [
            "Enter the following details to predict loan approval status:\n",
            "Gender (Male/Female): Male\n",
            "Married (Yes/No): Yes\n",
            "Number of Dependents (0/1/2/3+): 0\n",
            "Education (Graduate/Not Graduate): Graduate\n",
            "Self Employed (Yes/No): No\n",
            "Applicant Income: 1000000\n",
            "Coapplicant Income: 100000\n",
            "Loan Amount: 1000000\n",
            "Loan Amount Term (in days): 365\n",
            "Credit History (1: Yes, 0: No): 1\n",
            "Property Area (Urban/Semiurban/Rural): Urban\n",
            "\n",
            "Loan Approval Status Prediction:  Rejected\n"
          ]
        },
        {
          "output_type": "stream",
          "name": "stderr",
          "text": [
            "/usr/local/lib/python3.10/dist-packages/sklearn/base.py:493: UserWarning: X does not have valid feature names, but StandardScaler was fitted with feature names\n",
            "  warnings.warn(\n"
          ]
        }
      ]
    },
    {
      "cell_type": "code",
      "source": [],
      "metadata": {
        "id": "AeFiknIo1vB1"
      },
      "execution_count": null,
      "outputs": []
    }
  ]
}